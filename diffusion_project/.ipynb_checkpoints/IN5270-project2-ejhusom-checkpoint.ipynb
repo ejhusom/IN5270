{
 "cells": [
  {
   "cell_type": "markdown",
   "metadata": {},
   "source": [
    "# IN5270 - Project 2: Nonlinear diffusion equation\n",
    "\n",
    "## Problem description\n",
    "\n",
    "The aim of this project is to discuss various numerical aspects of a nonlinear diffusion model:\n",
    "\n",
    "$$\\varrho u_t = \\nabla \\cdot (\\alpha(u)\\nabla u ) + f(\\vec{x}, t),$$\n",
    "\n",
    "where $u_t = \\partial u/\\partial t$. We have \n",
    "\n",
    "- Initial condition: $u(\\vec{x}, 0) = I(\\vec{x})$,\n",
    "- Boundary condition $\\partial u/ \\partial n = 0$, \n",
    "- Constant coefficient: $\\varrho$,\n",
    "- Known function of $u$: $\\alpha(u)$."
   ]
  },
  {
   "cell_type": "markdown",
   "metadata": {},
   "source": [
    "## a) Backward Euler discretization\n",
    "\n",
    "<!--Task description: Use Backward Euler discretization (finite differencing) in the time directionto construct an implicit scheme. Derive a variational formulation of the initialcondition and the spatial problem to be solved at each time step.-->\n",
    "\n",
    "We start by using the Backward Euler to construct an implicit scheme in the time direction:\n",
    "\n",
    "$$\\frac{u^{n} - u^{n-1}}{\\Delta t} =  \\frac{1}{\\varrho} \\nabla \\cdot (\\alpha(u^n)\\nabla u^n ) + \\frac{1}{\\varrho} f(\\vec{x}_n, t_n),$$\n",
    "\n",
    "which we rewrite as\n",
    "\n",
    "$$u^n - \\frac{\\Delta t}{\\varrho} \\left[\\nabla \\cdot (\\alpha(u^n) \\nabla u^n) +  f(\\vec{x}_n, t_n) \\right] = u^{n-1}.$$\n",
    "\n",
    "<!--This implicit scheme gives a nonlinear algebraic equation:-->\n",
    "\n",
    "\n",
    "The residual $R$ becomes\n",
    "\n",
    "$$R = u^n - \\frac{\\Delta t}{\\varrho} \\left[\\nabla \\cdot (\\alpha(u^n) \\nabla u^n) +  f(\\vec{x}_n, t_n) \\right] - u^{n-1},$$\n",
    "\n",
    "and we want to have $(R,v) = 0, \\forall v \\in V$. By moving all the terms to the left, multiplying with a test function $v \\in V$ and taking the integral we get\n",
    "\n",
    "$$\\int_{\\Omega} \\left(u^n v - \\frac{\\Delta t}{\\varrho} \\left[  \\nabla ( \\alpha(u^n) \\nabla u^n )v +  f(x_n, t_n) v \\right] - u^{n-1} v \\right) d\\vec{x}, \\forall v \\in V.$$\n",
    "\n",
    "We use integration by parts to reduce the second order derivative:\n",
    "\n",
    "$$\\int_{\\Omega} u^n v d\\vec{x} + \\frac{\\Delta t}{\\varrho} \\int_{\\Omega} \\alpha(u^n) \\nabla u \\nabla v d\\vec{x} - \\int_{\\partial \\Omega} \\frac{\\partial u}{\\partial n} v ds - \\frac{\\Delta t}{\\varrho}\\int_{\\Omega} f(\\vec{x}_n, t_n) v d\\vec{x} - \\int_{\\Omega} u^{n-1} v d\\vec{x}.$$\n",
    "\n",
    "The term $\\int_{\\partial \\Omega} \\frac{\\partial u}{\\partial n} v ds$ is zero because of our boundary condition. Then we have the following as our variational form:\n",
    "\n",
    "$$\\int_{\\Omega} \\left( u^n v + \\frac{\\Delta t}{\\varrho} \\left[ \\alpha(u^n) \\nabla u \\nabla v - f(\\vec{x}_n, t_n) v \\right] -  u^{n-1} v  \\right) d\\vec{x} = 0, \\forall v \\in V.$$\n",
    "\n",
    "We can write this with the following notation:\n",
    "\n",
    "$$\\varrho(u^n, v) + \\Delta t(\\alpha(u^n) \\nabla u^n, \\nabla v) = \\varrho(u^{n-1}, v) + \\Delta t(f(\\vec{x}_n, t_n), v)$$\n",
    "\n",
    "We call the left hand of this equation $a(u,v)$, and the right hand side we call $L(v)$."
   ]
  },
  {
   "cell_type": "markdown",
   "metadata": {},
   "source": [
    "\n",
    "## b) Picard iteration\n",
    "\n",
    "<!--Task description: \n",
    "- Formulate a Picard iteration method at the PDE level, using the most recently computed u function in the α(u)coefficient. \n",
    "- Derive general formulas for the entries in the linear system to be solved in each Picard iteration. \n",
    "- Use the solution at the previous time step as initial guess for the Picard iteration.\n",
    "-->\n",
    "\n",
    "Based on the first equation in task a) we need to solve the following PDE in the Picard iterations, where $k$ is the iteration counter: \n",
    "\n",
    "$$\\frac{u^{n, k+1} - u^{n-1}}{\\Delta t} =  \\frac{1}{\\varrho}  \\nabla \\cdot (\\alpha(u^{n, k})\\nabla u^{n, k+1} ) +  \\frac{1}{\\varrho}  f(\\vec{x}_n, t_n).$$\n",
    "\n",
    "In the first iteration we have $u^{n,0} = u^{n-1}$. By setting $u = u^{n,k+1}$, $u^- = u^{n,k}$ and $u^{(1)} = u^{n-1}$, we get the following equation for a Picard iteration:\n",
    "\n",
    "$$\\frac{u - u^{(1)}}{\\Delta t} = \\frac{1}{\\varrho}  \\nabla \\cdot (\\alpha(u^{-})\\nabla u ) +  \\frac{1}{\\varrho}  f(\\vec{x}_n, t_n).$$\n",
    "\n",
    "Each iteration starts with setting the value from the previous time level $u^- = u^{(1)}$, and at the end of the iteration, we assign $u^- \\leftarrow u$. When solving the above equation for $u$ we get:\n",
    "\n",
    "$$u = u^{(1)} + \\frac{\\Delta t}{\\varrho}  \\nabla \\cdot (\\alpha(u^{-})\\nabla u ) +  \\frac{\\Delta t}{\\varrho}  f(\\vec{x}_n, t_n).$$\n",
    "\n",
    "The bilinear/linear form becomes\n",
    "\n",
    "$$\\varrho(u, v) + \\Delta t(\\alpha(u^-) \\nabla u^n, \\nabla v) = \\varrho(u^{1}, v) + \\Delta t(f(\\vec{x}_n, t_n), v)$$"
   ]
  },
  {
   "cell_type": "markdown",
   "metadata": {},
   "source": [
    "## c) A single Picard iteration\n",
    "\n",
    "<!--Restrict the Picard iteration to a single iteration. That is, simply use a u value from the previous time step in the α(u)coefficient. Implement this method with the aid of the FEniCS software (in a dimension-independent way such that the code runs in 1D, 2D, and 3D).-->\n",
    "\n",
    "We will now restrict the Picard iteration to a single iteration, which means to use a $u$ value from the previous time in the $\\alpha(u)$ coefficient:\n",
    "\n",
    "$$u = u^{(1)} + \\frac{\\Delta t}{\\varrho}  \\nabla \\cdot (\\alpha(u^{(1)})\\nabla u ) +  \\frac{\\Delta t}{\\varrho}  f(\\vec{x}_n, t_n),$$\n",
    "\n",
    "or\n",
    "\n",
    "$$\\varrho(u^n, v) + \\Delta t(\\alpha(u^{(1)}) \\nabla u^n, \\nabla v) = \\varrho(u^{(1)}, v) + \\Delta t(f(\\vec{x}_n, t_n), v)$$\n",
    "\n",
    "Implementation in FEniCS software, which can handle both 1D, 2D and 3D input, follows below."
   ]
  },
  {
   "cell_type": "code",
   "execution_count": 211,
   "metadata": {},
   "outputs": [
    {
     "data": {
      "image/png": "[encoded data removed]",
      "text/plain": [
       "<Figure size 432x288 with 1 Axes>"
      ]
     },
     "metadata": {
      "needs_background": "light"
     },
     "output_type": "display_data"
    },
    {
     "data": {
      "image/png": "[encoded data removed]",
      "text/plain": [
       "<Figure size 432x288 with 1 Axes>"
      ]
     },
     "metadata": {
      "needs_background": "light"
     },
     "output_type": "display_data"
    }
   ],
   "source": [
    "from fenics import *\n",
    "import numpy as np\n",
    "import matplotlib.pyplot as plt\n",
    "\n",
    "def picard(grid_size=[8,8], rho=1.0, alpha=Constant('1'),\n",
    "           I=Constant('1'), f=Constant('0.0'),P=1, nt=1, \n",
    "           showplot=True, T=1.0):\n",
    "    \n",
    "    \n",
    "    mesh_options = [UnitIntervalMesh, UnitSquareMesh, UnitCubeMesh]\n",
    "    dim = len(grid_size)\n",
    "    mesh = mesh_options[dim-1](*grid_size)\n",
    "    n = grid_size[0]\n",
    "\n",
    "    t = 0\n",
    "    dt = T/nt\n",
    "    t_array = np.linspace(t, T, nt+1)\n",
    "    \n",
    "    V = FunctionSpace(mesh, 'P', P)\n",
    "    \n",
    "    u = TrialFunction(V)\n",
    "    u_ = Function(V)\n",
    "    v = TestFunction(V)\n",
    "    u0 = I\n",
    "    u1 = project(u0, V)\n",
    "    uk = u1\n",
    "    \n",
    "    #u_D = Expression('0', degree=0)\n",
    "\n",
    "    #def boundary(x, on_boundary):\n",
    "    #    return on_boundary\n",
    "\n",
    "    #bc = DirichletBC(V, u_D, boundary)\n",
    "\n",
    "    # Bilinear/linear form\n",
    "    a = (rho*inner(u, v)+ dt*inner(alpha(uk)*nabla_grad(u), nabla_grad(v)))*dx\n",
    "    L = (rho*inner(uk, v) + dt*inner(f, v))*dx\n",
    "\n",
    "\n",
    "    for t in t_array:\n",
    "        f.t = t\n",
    "        solve(a == L, u_)\n",
    "        u1.assign(u_)\n",
    "        uk.assign(u_)\n",
    "\n",
    "    \n",
    "    if dim < 3 and showplot:\n",
    "        plot(mesh)\n",
    "        if dim == 2:\n",
    "            plot(u_, scalarbar=True)\n",
    "        else:\n",
    "            plot(u_)\n",
    "        plt.show()\n",
    "    \n",
    "    \n",
    "    return u1, V, mesh, dt\n",
    "\n",
    "    \n",
    "n = 4\n",
    "u, V, mesh, dt = picard(grid_size=[n], nt=1)\n",
    "u, V, mesh, dt = picard(grid_size=[n,n], nt=1)\n",
    "u, V, mesh, dt = picard(grid_size=[n,n,n], nt=1)"
   ]
  },
  {
   "cell_type": "markdown",
   "metadata": {},
   "source": [
    "## d) Constant solution\n",
    "\n",
    "We can easily see from our original PDE that if $u$ is a constant, the time derivative will become zero, the gradient will become zero, and the solution depends only on $f$ and the initial conditions $I$. I choose the values\n",
    "\n",
    "- $\\varrho = 1$,\n",
    "- $\\alpha = 1$,\n",
    "- $f = 0$,\n",
    "- $I = 3$,\n",
    "\n",
    "which will give $u(x,t) = 3$. We verify this with the following code."
   ]
  },
  {
   "cell_type": "code",
   "execution_count": 212,
   "metadata": {
    "scrolled": true
   },
   "outputs": [
    {
     "name": "stdout",
     "output_type": "stream",
     "text": [
      "[3. 3. 3. 3. 3. 3. 3. 3. 3.]\n"
     ]
    }
   ],
   "source": [
    "u, V, mesh, dt = picard(grid_size=[8], showplot=False, I=Constant('3'), nt=10)\n",
    "u_vertex = u.compute_vertex_values(mesh)\n",
    "print(u_vertex)"
   ]
  },
  {
   "cell_type": "markdown",
   "metadata": {},
   "source": [
    "As we can see, the numerically computed $u$ consists of constant values of $3$, which is what we expected."
   ]
  },
  {
   "cell_type": "markdown",
   "metadata": {},
   "source": [
    "## e) Analytical solution\n",
    "\n",
    "In this task we assume\n",
    "\n",
    "- $\\alpha (u) = 1$,\n",
    "- $f = 0$,\n",
    "- $\\Omega = [0,1]\\times [0,1]$,\n",
    "- P1 elements,\n",
    "- $I(x,y) = \\cos(\\pi x)$.\n",
    "\n",
    "Then we will have the exact solution\n",
    "\n",
    "$$u(x,y,t) = e^{-\\pi^2 t} \\cos(\\pi x).$$\n",
    "\n",
    "- Error in space: $\\mathcal{O}(\\Delta x^2) + \\mathcal{O}(\\Delta y^2$, \n",
    "- Error in time: $\\mathcal{O}(\\Delta t^p)$, with $p=1$ for the Backward Euler scheme.\n",
    "\n",
    "We have a model for an error measure:\n",
    "\n",
    "$$E = K_t \\Delta t^p + K_x \\Delta x^2 + K_y \\Delta y^2 = Kh,$$\n",
    "\n",
    "with $h = \\Delta t^p = \\Delta x^2 = \\Delta y^2$ and $K = K_t + K_x + K_y$. The measure $E$ will be taken as the discrete $L_2$ norm of the solution as the nodes, which is computed by\n",
    "\n",
    "```python\n",
    "vertex_values_u_exact = u_exact.compute_vertex_values(mesh)\n",
    "vertex_values_u = u.compute_vertex_values(mesh)\n",
    "error = vertex_values_u_exact - vertex_values_u\n",
    "E = numpy.sqrt(numpy.sum(error**2)/error.size)\n",
    "```\n",
    "\n",
    "for some fixed point of time. We have that `u_exact` is a projection of the exact solution onto the function space used for `u`. The following code shows how $E/h$ behaves as the mesh in space and time is simultanouesly refined by reducing $h$. We are using a fixed point in time, $T=1.0$."
   ]
  },
  {
   "cell_type": "code",
   "execution_count": 219,
   "metadata": {},
   "outputs": [
    {
     "name": "stdout",
     "output_type": "stream",
     "text": [
      "h=0.01000000, E/h=0.0012916229\n",
      "h=0.00250000, E/h=0.0011788640\n",
      "h=0.00111111, E/h=0.0011542891\n",
      "h=0.00062500, E/h=0.0011443310\n",
      "h=0.00040000, E/h=0.0011390887\n"
     ]
    }
   ],
   "source": [
    "n_values = [10,20,30,40,50]\n",
    "T = 1.0\n",
    "\n",
    "for n in n_values:\n",
    "    u, V, mesh, dt = picard(grid_size=[n,n], showplot=False, \n",
    "                        I=Expression('cos(pi*x[0])', degree=3), alpha=Constant('1'),\n",
    "                        f=Constant('0'), P=1, nt=n**2, T=T)\n",
    "    \n",
    "    h = dt\n",
    "    \n",
    "    u_e = Expression('exp(-pi*pi*t)*cos(pi*x[0])', t=T, degree=3)\n",
    "    u_exact = project(u_e, V)\n",
    "    \n",
    "    error = u_exact.compute_vertex_values(mesh) - u.compute_vertex_values(mesh)\n",
    "    E = np.sqrt(np.sum(error**2)/error.size)\n",
    "    \n",
    "    print('h={:.8f}, E/h={:.10f}'.format(h, E/h))"
   ]
  },
  {
   "cell_type": "markdown",
   "metadata": {},
   "source": [
    "The value $E/h$ is slowly decreasing when we refine the mesh in time and space, but is approximately constant."
   ]
  },
  {
   "cell_type": "markdown",
   "metadata": {},
   "source": [
    "## f) Manufactured solution\n",
    "\n",
    "We now restrict the problem to one space dimension with $\\Omega = [0,1]$, and set\n",
    "\n",
    "$$u(x,t) = t \\int_0^x q(1 - q)dq = tx^2 \\left( \\frac{1}{2} - \\frac{x}{3} \\right),$$\n",
    "\n",
    "and $\\alpha(u) = 1 + u^2$. We use `sympy` in the code below (taken from the project description) to find an $f(x,t)$ based on the $u$ we have chosen."
   ]
  },
  {
   "cell_type": "code",
   "execution_count": 206,
   "metadata": {},
   "outputs": [
    {
     "name": "stdout",
     "output_type": "stream",
     "text": [
      "u_x(0,t): 0\n",
      "u_x(1,t): 0\n",
      "Initial condition: 0\n",
      "-rho*x[0]**2*(2*x[0] - 3)/6 + t**3*x[0]**4*(x[0] - 1)**2*(2*x[0] - 3)/3 + t*(2*x[0] - 1)*(t**2*x[0]**4*(2*x[0] - 3)**2 + 36)/36\n",
      "-1.0/6.0*rho*pow(x[0], 2)*(2*x[0] - 3) + (1.0/3.0)*pow(t, 3)*pow(x[0], 4)*pow(x[0] - 1, 2)*(2*x[0] - 3) + (1.0/36.0)*t*(2*x[0] - 1)*(pow(t, 2)*pow(x[0], 4)*pow(2*x[0] - 3, 2) + 36)\n"
     ]
    }
   ],
   "source": [
    "import sympy as sp\n",
    "\n",
    "\n",
    "x, t, rho, dt = sp.symbols('x[0] t rho dt')\n",
    "\n",
    "def a(u):\n",
    "    return 1 + u**2\n",
    "\n",
    "def u_simple(x, t):\n",
    "    return x**2*(sp.Rational(1,2) - x/3)*t\n",
    "\n",
    "for x_point in 0, 1:\n",
    "    print(f'u_x({x_point},t): {sp.diff(u_simple(x, t), x).subs(x, x_point).simplify()}')\n",
    "\n",
    "\n",
    "print(f'Initial condition: {u_simple(x, 0)}')\n",
    "\n",
    "## MMS: Full nonlinear problem\n",
    "u = u_simple(x, t)\n",
    "f = rho*sp.diff(u, t) - sp.diff(a(u)*sp.diff(u, x), x)\n",
    "f = f.simplify()\n",
    "\n",
    "print(f)\n",
    "f_ccode = printing.ccode(f)\n",
    "print(f_ccode)"
   ]
  },
  {
   "cell_type": "markdown",
   "metadata": {},
   "source": [
    "We will now compare the FEniCS solution ant the $u$ given above as a function of $x$ for a couple of $t$, using the code below."
   ]
  },
  {
   "cell_type": "code",
   "execution_count": 210,
   "metadata": {},
   "outputs": [
    {
     "name": "stdout",
     "output_type": "stream",
     "text": [
      "t=0.0500, E=0.000011\n",
      "t=0.1000, E=0.000021\n",
      "t=0.5000, E=0.000116\n",
      "t=1.0000, E=0.000237\n",
      "t=2.0000, E=0.000479\n"
     ]
    }
   ],
   "source": [
    "t_values = [0.05, 0.1, 0.5, 1., 2.]\n",
    "rho = 1.0\n",
    "n = 20\n",
    "\n",
    "def alpha1(u):\n",
    "    return (1 + u*u)\n",
    "\n",
    "\n",
    "for t in t_values:\n",
    "    u, V, mesh, dt = picard(grid_size=[n], showplot=False, \n",
    "                        I=Constant('0'), alpha=alpha1, rho=rho,\n",
    "                        f=Expression(f_ccode, rho=rho, t=t, degree=3),\n",
    "                        P=1, nt=n**2, T=t)\n",
    "\n",
    "    h = dt\n",
    "\n",
    "    u_e = Expression('t*pow(x[0],2)*(0.5 - x[0]/3.)', t=t, degree=2)\n",
    "    u_exact = project(u_e, V)\n",
    "\n",
    "    error = u_exact.compute_vertex_values(mesh) - u.compute_vertex_values(mesh)\n",
    "    E = np.sqrt(np.sum(error**2)/error.size)\n",
    "\n",
    "    print('t={:.4f}, E={:.6f}'.format(t, E))\n",
    "        "
   ]
  },
  {
   "cell_type": "markdown",
   "metadata": {},
   "source": [
    "As we can see from the results, the error $E$ is gradually increasing, which is what we would expect, since the the various numerical error sources will keep adding up for each step."
   ]
  },
  {
   "cell_type": "markdown",
   "metadata": {},
   "source": [
    "## g) Sources of numerical errors\n",
    "\n",
    "Different sources of numerical errors in the FEniCS program:\n",
    "\n",
    "- Error in time from the finite difference approximation, which for the Backward Euler scheme is $\\mathcal{O}(\\Delta t)$.\n",
    "- Error in space from the finite element method, which in the problems we have dealt with is $\\mathcal{O}(\\Delta x^2) + \\mathcal{O}(\\Delta y^2)$ .\n",
    "- Error from Picard iterations. This error will decrease when we increase the number of Picard iterations, but sincec we operate with only one Picard iteration in this project, this error will be significant."
   ]
  }
 ],
 "metadata": {
  "kernelspec": {
   "display_name": "Python 3",
   "language": "python",
   "name": "python3"
  },
  "language_info": {
   "codemirror_mode": {
    "name": "ipython",
    "version": 3
   },
   "file_extension": ".py",
   "mimetype": "text/x-python",
   "name": "python",
   "nbconvert_exporter": "python",
   "pygments_lexer": "ipython3",
   "version": "3.7.4"
  }
 },
 "nbformat": 4,
 "nbformat_minor": 2
}
