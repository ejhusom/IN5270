{
  "nbformat": 4,
  "nbformat_minor": 0,
  "metadata": {
    "colab": {
      "name": "IN5270.ipynb",
      "provenance": [],
      "collapsed_sections": [],
      "toc_visible": true
    },
    "kernelspec": {
      "name": "python3",
      "display_name": "Python 3"
    }
  },
  "cells": [
    {
      "cell_type": "markdown",
      "metadata": {
        "id": "OCswGGKJdj8R",
        "colab_type": "text"
      },
      "source": [
        "# IN5270 - Exam preparation\n",
        "\n"
      ]
    },
    {
      "cell_type": "markdown",
      "metadata": {
        "id": "M7NMmUEHdsQj",
        "colab_type": "text"
      },
      "source": [
        "## Topic 1\n",
        "Want to approximate the function $f(x) = 1 + 2x -x^2$ in the domain $x \\in [0, 1]$ by the projection method and by using finite element basis functions.\n"
      ]
    },
    {
      "cell_type": "markdown",
      "metadata": {
        "id": "NkfsmgRGRuDT",
        "colab_type": "text"
      },
      "source": [
        "###Task 1\n",
        "Single P2 element.\n",
        "\n",
        "Found by Lagramge polynomials $$ \\varphi_i(x) = \\prod_{j=0, j\\neq i}^n \\frac{x - x_j}{x_i - x_j} $$ and the resulting $\\varphi_i$ are\n",
        "$$\\varphi_0 = (1-2x)(1-x)$$\n",
        "$$\\varphi_1 = 2x(2-2x)$$\n",
        "$$\\varphi_2 = x(2x-1)$$\n",
        "\n",
        "We approximate the function $f$ as \n",
        "$$u = \\sum_i^n c_i\\varphi_i$$\n",
        "and define the residual of $f$ and $u$ as $R=f-u$.\n",
        "Want the residual to be orthogonal to each basis function in $V$ (containing the basis functions), which leads to\n",
        "\n",
        "$$(R, v)= (f-u, v)=0$$\n",
        "$$(f,v) = (u, v)$$\n",
        "\n",
        "Leads to the linear system $Ac=b$ with \n",
        "\n",
        "$$A_{i, j} = \\int_0^1 \\varphi_i \\varphi_j dx$$\n",
        "$$b_i = \\int_0^1 f(x) \\varphi_i dx$$\n",
        "\n",
        "The code below solves the system.\n",
        "\n"
      ]
    },
    {
      "cell_type": "code",
      "metadata": {
        "id": "kB4tvqGaIxt7",
        "colab_type": "code",
        "cellView": "both",
        "outputId": "aa65179c-b7c9-4458-eb53-374701daa36d",
        "colab": {
          "base_uri": "https://localhost:8080/",
          "height": 149
        }
      },
      "source": [
        "#@title\n",
        "import numpy as np\n",
        "import sympy as sym\n",
        "from google.colab.output._publish import javascript\n",
        "url = \"https://cdnjs.cloudflare.com/ajax/libs/mathjax/2.7.3/latest.js?config=default\"\n",
        "javascript(url=url)\n",
        "sym.init_printing(use_unicode=True)\n",
        "\n",
        "\n",
        "x = sym.Symbol('x')\n",
        "n = 3\n",
        "phi = [(1 - 2*x)*(1 - x), 2*x*(2 - 2*x), x*(2*x - 1)]\n",
        "\n",
        "f = 1 + 2*x-x**2\n",
        "\n",
        "\n",
        "A = sym.zeros(n, n)\n",
        "b = sym.zeros(n)\n",
        "\n",
        "for i in range(n):\n",
        "    for j in range(n):\n",
        "        A[i, j] = sym.integrate(phi[i]*phi[j], (x, 0, 1))\n",
        "    b[i] = sym.integrate(phi[i]*f, (x, 0, 1))\n",
        "print('A:')\n",
        "A"
      ],
      "execution_count": 0,
      "outputs": [
        {
          "output_type": "display_data",
          "data": {
            "text/html": [
              "<script src='https://cdnjs.cloudflare.com/ajax/libs/mathjax/2.7.3/latest.js?config=default'></script>"
            ],
            "text/plain": [
              "<IPython.core.display.HTML object>"
            ]
          },
          "metadata": {
            "tags": []
          }
        },
        {
          "output_type": "stream",
          "text": [
            "A:\n"
          ],
          "name": "stdout"
        },
        {
          "output_type": "execute_result",
          "data": {
            "text/latex": "$$\\left[\\begin{matrix}\\frac{2}{15} & \\frac{1}{15} & - \\frac{1}{30}\\\\\\frac{1}{15} & \\frac{8}{15} & \\frac{1}{15}\\\\- \\frac{1}{30} & \\frac{1}{15} & \\frac{2}{15}\\end{matrix}\\right]$$",
            "text/plain": [
              "⎡2/15   1/15  -1/30⎤\n",
              "⎢                  ⎥\n",
              "⎢1/15   8/15  1/15 ⎥\n",
              "⎢                  ⎥\n",
              "⎣-1/30  1/15  2/15 ⎦"
            ]
          },
          "metadata": {
            "tags": []
          },
          "execution_count": 3
        }
      ]
    },
    {
      "cell_type": "code",
      "metadata": {
        "id": "aD3DOPURJvFN",
        "colab_type": "code",
        "cellView": "both",
        "outputId": "bfc936fa-e2dd-4420-c353-1f4161d6c7d0",
        "colab": {
          "base_uri": "https://localhost:8080/",
          "height": 102
        }
      },
      "source": [
        "#@title\n",
        "from google.colab.output._publish import javascript\n",
        "url = \"https://cdnjs.cloudflare.com/ajax/libs/mathjax/2.7.3/latest.js?config=default\"\n",
        "javascript(url=url)\n",
        "sym.init_printing(use_unicode=True)\n",
        "print('b:')\n",
        "b[0:3]"
      ],
      "execution_count": 0,
      "outputs": [
        {
          "output_type": "display_data",
          "data": {
            "text/html": [
              "<script src='https://cdnjs.cloudflare.com/ajax/libs/mathjax/2.7.3/latest.js?config=default'></script>"
            ],
            "text/plain": [
              "<IPython.core.display.HTML object>"
            ]
          },
          "metadata": {
            "tags": []
          }
        },
        {
          "output_type": "stream",
          "text": [
            "b:\n"
          ],
          "name": "stdout"
        },
        {
          "output_type": "execute_result",
          "data": {
            "image/png": "[encoded data removed]",
            "text/latex": "$$\\left [ \\frac{11}{60}, \\quad \\frac{17}{15}, \\quad \\frac{7}{20}\\right ]$$",
            "text/plain": [
              "⎡11  17      ⎤\n",
              "⎢──, ──, 7/20⎥\n",
              "⎣60  15      ⎦"
            ]
          },
          "metadata": {
            "tags": []
          },
          "execution_count": 4
        }
      ]
    },
    {
      "cell_type": "code",
      "metadata": {
        "id": "sfGbn85IL73Y",
        "colab_type": "code",
        "cellView": "both",
        "outputId": "5f488d67-720c-4626-eb99-242cf535f9ec",
        "colab": {
          "base_uri": "https://localhost:8080/",
          "height": 101
        }
      },
      "source": [
        "#@title\n",
        "b = sym.Matrix([b[0], b[1], b[2]])\n",
        "Ab = A.col_insert(3, b)\n",
        "c0, c1, c2 = sym.symbols('c1, c2, c3')\n",
        "c = sym.solve_linear_system_LU(Ab, [c0, c1, c2])\n",
        "from google.colab.output._publish import javascript\n",
        "url = \"https://cdnjs.cloudflare.com/ajax/libs/mathjax/2.7.3/latest.js?config=default\"\n",
        "javascript(url=url)\n",
        "sym.init_printing(use_unicode=True)\n",
        "print('solve Ac=b gives c:')\n",
        "c\n"
      ],
      "execution_count": 0,
      "outputs": [
        {
          "output_type": "display_data",
          "data": {
            "text/html": [
              "<script src='https://cdnjs.cloudflare.com/ajax/libs/mathjax/2.7.3/latest.js?config=default'></script>"
            ],
            "text/plain": [
              "<IPython.core.display.HTML object>"
            ]
          },
          "metadata": {
            "tags": []
          }
        },
        {
          "output_type": "stream",
          "text": [
            "solve Ac=b gives c:\n"
          ],
          "name": "stdout"
        },
        {
          "output_type": "execute_result",
          "data": {
            "image/png": "[encoded data removed]",
            "text/latex": "$$\\left \\{ c_{1} : 1, \\quad c_{2} : \\frac{7}{4}, \\quad c_{3} : 2\\right \\}$$",
            "text/plain": [
              "{c₁: 1, c₂: 7/4, c₃: 2}"
            ]
          },
          "metadata": {
            "tags": []
          },
          "execution_count": 31
        }
      ]
    },
    {
      "cell_type": "markdown",
      "metadata": {
        "id": "tz3NDKaJWSTy",
        "colab_type": "text"
      },
      "source": [
        "### Task 2\n",
        "Use two P1 elements \n",
        "\n",
        "The P1 basis functions are defined as $\\varphi_i =$\n",
        "$$0 \\hspace{30mm} x < x_{i-1}$$\n",
        "$$(x-x_{i-1})/h \\hspace{17mm} x_{i-1} \\leq x < x_i$$\n",
        "$$1-(x-x_{i-1})/h \\hspace{9mm} x_i \\leq x < x_{i+1}$$\n",
        "$$0 \\hspace{30mm} x \\geq x_{i+1}$$\n",
        "\n",
        "They can also be found by the Lagrange polynomials as in task 1. We get:\n",
        "\n",
        "$\\varphi_0 =$\n",
        "$$0 \\hspace{30mm} x < 0$$\n",
        "$$ -2x + 1\\hspace{25mm} 0 \\leq x < 0.5$$\n",
        "$$0 \\hspace{30mm} x \\geq 0.5$$\n",
        "\n",
        "$\\varphi_1 =$\n",
        "$$0 \\hspace{30mm} x < 0$$\n",
        "$$2x \\hspace{25mm} 0 \\leq x < 0.5$$\n",
        "$$-2x + 2 \\hspace{15mm} 0.5 \\leq x < 1$$\n",
        "$$0 \\hspace{30mm} x \\geq 1$$\n",
        "\n",
        "\n",
        "$\\varphi_2 =$\n",
        "$$0 \\hspace{30mm} x < 0.5$$\n",
        "$$ 2x - 1\\hspace{25mm} 0.5 \\leq x < 1$$\n",
        "$$0 \\hspace{30mm} x \\geq 1$$"
      ]
    },
    {
      "cell_type": "markdown",
      "metadata": {
        "id": "ltNDFqE8-qic",
        "colab_type": "text"
      },
      "source": [
        "### Task 3\n",
        "\n",
        "The general function for the basis functions is given above, and each element matrix/vector is found using these formulas (that is also given above):\n",
        "\n",
        "$$A_{i, j} = \\int_0^1 \\varphi_i \\varphi_j dx$$\n",
        "$$b_i = \\int_0^1 f(x) \\varphi_i dx$$\n",
        "\n",
        "The element matrices and vectors are then assembled into one complete matrix/vector, where each element matrix/vector have one entry overlap. Then we have a linear system $Ac = b$.\n",
        "\n"
      ]
    },
    {
      "cell_type": "markdown",
      "metadata": {
        "id": "iauWR_QM-vVg",
        "colab_type": "text"
      },
      "source": [
        "### Task 4\n",
        "\n",
        "**Question**: If we want in addition that the approximation result, when using N equal-sized P1 elements, should attain the same value of $f (x)$ at $x = 0$ and $x = 1$, what are the changes needed in the calculation\n",
        "above?\n",
        "\n",
        "**Answer:** \n",
        "We have \n",
        "\n",
        "- $f(0) = 1$\n",
        "- $f(1)=2$.\n",
        "\n",
        "We add a term to $u$ that leads to correct boundary values:\n",
        "$$u(x) = B(x) + \\sum_{i=0}^N c_i \\varphi_i$$\n",
        "\n",
        "More specifically:\n",
        "\n",
        "$$u(x) = f(0)(1-x) + xf(1) + \\sum_{i=0}^N c_i \\varphi_i$$\n",
        "$$u(x) = 1 + x + \\sum_{i=0}^N c_i \\varphi_i$$\n",
        "\n"
      ]
    },
    {
      "cell_type": "markdown",
      "metadata": {
        "colab_type": "text",
        "id": "lv-azbXidwx6"
      },
      "source": [
        "## Topic 2\n",
        "\n",
        "We have the 1D Poisson equation:\n",
        "\n",
        "$$-u_{xx} = 1, 0 < x < 1,$$\n",
        "\n",
        "and we shall solve it with a finite difference method. On the left boudnary point of $x=0$ we have the following mixed boudnary condition\n",
        "\n",
        "$$u_x + Cu = 0,$$\n",
        "\n",
        "where $C$ is a constant. On the right boundary point of $x=1$, the Dirichlet boundary condition $u=D$ is valid. We assume that we use a uniform mesh of $N+1$ points."
      ]
    },
    {
      "cell_type": "markdown",
      "metadata": {
        "id": "S64chw4QGzfl",
        "colab_type": "text"
      },
      "source": [
        "### Task 1\n",
        "\n",
        "**Question:** Discretize the Poisson equation on all the $N − 1$ interior points.\n",
        "\n",
        "**Answer**: We discretize the double derivative like this:\n",
        "\n",
        "$$ - \\frac{u^{n+1} - 2u^n + u^{n-1}}{\\Delta x^2} = 1$$"
      ]
    },
    {
      "cell_type": "markdown",
      "metadata": {
        "id": "fayYCkpWG2H1",
        "colab_type": "text"
      },
      "source": [
        "### Task 2\n",
        "\n",
        "**Question:** Discretize the left boundary condition using appropriate finite differencing.\n",
        "\n",
        "**Answer:**\n",
        "\n",
        "We use the Neumann condition at $x=0$: $u_x + Cu=0$, and use a centered difference to find the undefined value of $u^{-1}$.\n",
        "$$\\frac{u^1 - u^{-1}}{2\\Delta x} + Cu^0 = 0$$\n",
        "$$u^{-1} = u^1 + 2\\Delta x Cu^0$$\n"
      ]
    },
    {
      "cell_type": "markdown",
      "metadata": {
        "id": "i0gKy96ZG3e-",
        "colab_type": "text"
      },
      "source": [
        "### Task 3\n",
        "\n",
        "**Question:** Show the details of setting up a linear system $Au = b$ which can be used to find the approximations\n",
        "of $u(x)$ on the mesh points. (There’s no need to solve the linear system.)"
      ]
    },
    {
      "cell_type": "markdown",
      "metadata": {
        "id": "pG3hhtNbG40q",
        "colab_type": "text"
      },
      "source": [
        "### Task 4\n",
        "\n",
        "**Question:** How would you validate that the obtained numerical solutions converge towards the exact solution,\n",
        "when the number of mesh points is increased? What is the expected convergence speed?\n",
        "\n",
        "**Answer:**\n",
        "We assume that a measure of the numerical error $E$ is related to the discretization parameters through\n",
        "\n",
        "$$E = C \\Delta x^r,$$\n",
        "\n",
        "where $C$ is a constant. We expect $r=2$ because the error term are of order $\\Delta x^2$. The difference between the exact solution $u_e$ and the numerical $u$:\n",
        "\n",
        "$$e_n = u_e(x_n) - u_n$$,\n",
        "\n",
        "and we typically use the $L_2$ norm as a measure of the error:\n",
        "\n",
        "$$E = ||e^n||_{L_2} = \\left( \\Delta x \\sum_{n=0}^N (e^n)^2 \\right)^{\\frac{1}{2}}$$\n",
        "\n",
        "We let index $i$ be our iteration index for each time we increase the number of mesh points, and we have\n",
        "\n",
        "$$E_i = C \\Delta x_i^r$$\n",
        "$$E_{i+1} = C \\Delta x_{i+1}^r$$\n",
        "\n",
        "We divide these two equations:\n",
        "\n",
        "$$\\frac{E_i}{E_{i+1}} = \\frac{C \\Delta x_i^r}{C \\Delta x_{i+1}^r}$$\n",
        "$$r = \\frac{\\ln (E_i/E_{i+1})}{\\ln (\\Delta x_i/\\Delta x_{i+1})}$$\n"
      ]
    },
    {
      "cell_type": "markdown",
      "metadata": {
        "colab_type": "text",
        "id": "eWg7HRy-dw4V"
      },
      "source": [
        "## Topic 3\n",
        "\n",
        "We have the following 1D stationary convection diffusion equation\n",
        "\n",
        "$$u_x = \\varepsilon u_{xx}$$\n",
        "\n",
        "We will solve it by finite differencing in the domain $0 < x < 1$, where $\\varepsilon > 0$ is a given constant and the boundary conditions $u(0) = 0$ and $u(1) = 1$."
      ]
    },
    {
      "cell_type": "markdown",
      "metadata": {
        "id": "nl2Br5hBG7FY",
        "colab_type": "text"
      },
      "source": [
        "### Task 1\n",
        "**Question:** Show that the analytical solution is \n",
        "$$ u(x) = \\frac{1 - e^{x/\\epsilon}}{1 - e^{1/\\epsilon}}$$\n",
        "\n",
        "**Answer:**\n",
        "\n",
        "We assume a solution of the form $e^{\\lambda x}$ and insert into the DE\n",
        "$$ -\\epsilon \\lambda^2e^{\\lambda x} + \\lambda e^{\\lambda x} = 0$$\n",
        "Which gives \n",
        "$$u(x) = c_1e^{x/\\epsilon} + c_2$$\n",
        "Using BC's, we find that $c_1 = -c_2$ and $c_1 = 1/(e^{1/\\epsilon} - 1)$. Inserting then gives the expected result."
      ]
    },
    {
      "cell_type": "markdown",
      "metadata": {
        "id": "d5V8I7MBG8JC",
        "colab_type": "text"
      },
      "source": [
        "### Task 2\n",
        "\n",
        "**Question:**\n",
        "Set up the linear system that solves the discretized equations.\n",
        "\n",
        "**Answer:**\n",
        "Using centered difference, the DE is\n",
        "$$\\frac{u^{n+1} - u^{n-1}}{2\\Delta x} = \\epsilon \\frac{u^{n+1} - 2u^{n} + u^{n-1}}{\\Delta x^2}$$\n",
        "which leads to \n",
        "$$u^{n+1}(1-\\gamma) + u^n(2\\gamma) + u^{n-1}(-1-\\gamma) = 0, \\hspace{10mm} \\gamma = \\frac{2\\epsilon}{\\Delta x}$$\n",
        "The resulting linear system is then\n",
        " $$\\left(\\begin{matrix}1&0&\\dots&\\dots&\\dots&0\\\\-1-\\gamma&2\\gamma&1-\\gamma&0&\\dots&0\\\\0&-1-\\gamma&2\\gamma&1-\\gamma&\\dots&0\\\\\\vdots&\\vdots&\\vdots&\\vdots&\\vdots&\\vdots\\\\0&\\dots&\\dots&-1-\\gamma&2\\gamma&1-\\gamma\\\\0&\\dots&\\dots&\\dots&0&1\\end{matrix}\\right) \\left(\\begin{matrix}u_0\\\\u_1\\\\\\vdots\\\\\\vdots\\\\\\vdots\\\\u_n\\end{matrix}\\right) = \\left(\\begin{matrix}0\\\\0\\\\\\vdots\\\\\\vdots\\\\0\\\\1\\end{matrix}\\right)$$\n",
        "\n",
        "where $A_{0,0}$ and $A_{n,n}$ have entries $1$ since the solutions $u_0$ and $u_n$ are known."
      ]
    },
    {
      "cell_type": "markdown",
      "metadata": {
        "id": "KASA31h-G9ay",
        "colab_type": "text"
      },
      "source": [
        "### Task 3"
      ]
    },
    {
      "cell_type": "markdown",
      "metadata": {
        "id": "10zZ-D-yG-fm",
        "colab_type": "text"
      },
      "source": [
        "### Task 4"
      ]
    },
    {
      "cell_type": "markdown",
      "metadata": {
        "colab_type": "text",
        "id": "8CsY1CX9dxA1"
      },
      "source": [
        "## Topic 4\n",
        "\n",
        "We have the nonlinear diffusion equation in multiple space dimensions:\n",
        "\n",
        "$$\\frac{\\partial u}{\\partial t} = \\nabla \\cdot (\\alpha(x, t) \\nabla u) + f(u)$$\n",
        "\n",
        "- $x \\in \\Omega,$\n",
        "- $t \\in (0, T]$,\n",
        "- $u(x,0) = I(x), x \\in \\Omega,$\n",
        "- $\\frac{\\partial u}{\\partial n} = g, x \\in \\partial \\Omega, t \\in (0, T].$\n",
        "\n",
        "Note that $\\frac{\\partial u}{\\partial n}$ denotes the outward normal derivative on the boudnary $\\partial \\Omega$, and $g$ is a constant."
      ]
    },
    {
      "cell_type": "markdown",
      "metadata": {
        "id": "btqZN_5YErvn",
        "colab_type": "text"
      },
      "source": [
        "### Task 1\n",
        "\n",
        "**Question:** Use the Crank-Nicolson scheme in time and show the resulting time discrete problem for each time\n",
        "step.\n",
        "\n",
        "**Answer:**\n",
        "Crank-Nicolson tine discretization:\n",
        "\n",
        "$$\\frac{\\partial u}{\\partial t} \\approx \\frac{u^{n+1} - u^n}{\\Delta t} = \\frac{1}{2} \\left[ \\nabla (\\alpha(x, t_{n+1}) \\nabla u^{n+1} + f(u^{n+1}) + \\nabla (\\alpha(x, t_{n}) \\nabla u^{n} + f(u^{n}) \\right]$$\n",
        "\n",
        "We isolate $u^{n+1}$:\n",
        "\n",
        "$$u^{n+1} = u^n + \\frac{\\Delta t}{2} \\left[ \\nabla (\\alpha(x, t_{n+1}) \\nabla u^{n+1} + f(u^{n+1}) + \\nabla (\\alpha(x, t_{n}) \\nabla u^{n} + f(u^{n}) \\right]$$\n",
        "\n",
        "\n",
        "We set \n",
        "\n",
        "- $u^{n+1,k+1} = u$,\n",
        "- $u^n = u^{(1)},$\n",
        "- $u^{n+1,k} = u^{-}$,"
      ]
    },
    {
      "cell_type": "markdown",
      "metadata": {
        "id": "Rwvk4aU6HAwF",
        "colab_type": "text"
      },
      "source": [
        "### Task 2\n",
        "\n",
        "**Question:** Formulate Picard iterations to linearize the time discrete problem."
      ]
    },
    {
      "cell_type": "markdown",
      "metadata": {
        "id": "1dZbsOAwHDWC",
        "colab_type": "text"
      },
      "source": [
        "### Task 3\n",
        "\n",
        "**Question:** Use the Galerkin method to discretize the stationary linear PDE per Picard iteration. Show the\n",
        "details of how to derive the corresponding variational form."
      ]
    },
    {
      "cell_type": "markdown",
      "metadata": {
        "id": "s1rcJD3AHEhR",
        "colab_type": "text"
      },
      "source": [
        "### Task 4\n",
        "\n",
        "**Question:** Restrict now the spatial domain to the 1D case of $x \\in (0, 1)$, let $\\alpha$ be a constant and choose $f (u) = u^2$.\n",
        "(The boundary conditions are now $u_x = −g$ at $x = 0$ and $u_x = g$ at $x = 1$.) Suppose the 1D spatial\n",
        "domain consists of $N$ equal-sized P1 elements. Carry out the calculation in detail for computing the\n",
        "element matrix and vector for the leftmost P1 element."
      ]
    },
    {
      "cell_type": "markdown",
      "metadata": {
        "id": "RWvn-AiYHFhk",
        "colab_type": "text"
      },
      "source": [
        "### Task 5\n",
        "\n",
        "**Question:** What is the resulting global linear system Ax = b?"
      ]
    },
    {
      "cell_type": "markdown",
      "metadata": {
        "colab_type": "text",
        "id": "fUsVTLhkdxH6"
      },
      "source": [
        "## Topic 5\n",
        "\n",
        "2D Poisson equation:\n",
        "\n",
        "$$-\\nabla \\cdot \\nabla u = 2$$\n",
        "\n",
        "- Defined in the unit square $(x, y) \\in [0,1]^2$.\n",
        "- Homogeneous Neumann condition: $\\frac{\\partial u}{\\partial n} = 0$.\n",
        "\n",
        "\n",
        "\n",
        "\n",
        "\n"
      ]
    },
    {
      "cell_type": "markdown",
      "metadata": {
        "id": "bmUhNA2wfaM9",
        "colab_type": "text"
      },
      "source": [
        "### Task 1\n",
        "\n",
        "Use the Galerkin method, derive the variational form of the above PDE in detail:\n",
        "\n",
        "Integration by parts:\n",
        "\n",
        "$$\\int \\nabla \\cdot (\\nabla u) v dx = \\int_{\\Omega} \\nabla u \\nabla v dx - \\int_{\\partial \\Omega} \\frac{\\partial u}{\\partial n} v dx$$\n",
        "$$- \\int_{\\Omega} \\nabla u \\nabla dx v = 2vdx.$$\n",
        "$$(\\nabla u, \\nabla v) = (2,v)$$\n",
        "\n",
        "\n"
      ]
    },
    {
      "cell_type": "markdown",
      "metadata": {
        "id": "hLob_5H_gaRI",
        "colab_type": "text"
      },
      "source": [
        "### Task 2\n",
        "\n",
        "**Question**:\n",
        "What are the degrees of freedom and how many are they in total? How would you number the\n",
        "degrees of freedom, with respect to the rows in a global linear system to be set up?\n",
        "\n",
        "**Answer**:\n",
        "The degrees of freedom are the values of $u$ at each node. In each element there will be four (in the bilinear case). The number of global nodes is $(M+1)(N+1)$."
      ]
    },
    {
      "cell_type": "markdown",
      "metadata": {
        "id": "B1sxQLo5gwK1",
        "colab_type": "text"
      },
      "source": [
        "### Task 3\n",
        "\n",
        "**Question:**\n",
        "Describe in detail how the bilinear basis functions $\\hat{\\varphi}_0 (X,Y), \\hat{\\varphi}_1 (X,Y), \\hat{\\varphi}_2 (X,Y), \\hat{\\varphi}_3 (X,Y)$ are\n",
        "defined in a reference cell $(X,Y ) \\in [−1, 1]^2$.\n",
        "(Hint: Each basis function is of the form $(aX + b) · (cY + d)$ with suitable choices of the $a, b, c, d$\n",
        "scalar values).\n",
        "\n",
        "**Answer:**\n",
        "The basis functions are originally defined in the interval of their respective elements, $[x_L, x_R]$, but we want to map it to a reference cell $[-1, 1]$, because then we can compute all integrals over the same domain.\n",
        "\n",
        "General basis function:\n",
        "\n",
        "$$\\hat{\\varphi}_r = \\Pi_{s=0, s \\not = r}^d \\frac{X - X_s}{X_r - X_s} \\frac{Y - Y_s}{Y_r - Y_s} $$\n",
        "\n",
        "Basis functions for a cell:\n",
        "\n",
        "$$\\hat{\\varphi}_0 = \\frac{1}{4} (X-1)(Y-1)$$\n",
        "$$\\hat{\\varphi}_1 = -\\frac{1}{4} (X+1)(Y-1)$$\n",
        "$$\\hat{\\varphi}_2 = \\frac{1}{4} (X+1)(Y+1)$$\n",
        "$$\\hat{\\varphi}_3 = -\\frac{1}{4} (X-1)(Y+1)$$\n"
      ]
    },
    {
      "cell_type": "markdown",
      "metadata": {
        "id": "TcisQIB6g4ov",
        "colab_type": "text"
      },
      "source": [
        "### Task 4\n",
        "\n",
        "**Question:**\n",
        "For element number e, how can the physical coordinates $(x, y)$ be mapped from the local coordinates\n",
        "$(X,Y)$ of the reference cell?\n",
        "\n",
        "**Answer:**\n",
        "Formula for linear mapping:\n",
        "\n",
        "$$x = \\frac{1}{2} (x_L + x_R) + \\frac{1}{2} (x_R - x_L) X$$\n",
        "$$y = \\frac{1}{2} (y_B + y_T) + \\frac{1}{2} (y_T - y_B) X$$"
      ]
    },
    {
      "cell_type": "markdown",
      "metadata": {
        "id": "LWh0nQ_0hTIA",
        "colab_type": "text"
      },
      "source": [
        "### Task 5\n",
        "\n",
        "**Question:**\n",
        "Compute the element matrix and vector for element number $e$, with help of the reference cell.\n",
        "\n",
        "**Answer:**\n",
        "Gradients of the four basis functions:\n",
        "\n",
        "$$\\nabla \\hat{\\varphi}_0 = \\frac{1}{4} (Y-1, X-1)$$\n",
        "$$\\nabla \\hat{\\varphi}_1 = -\\frac{1}{4} (Y-1, X+1)$$\n",
        "$$\\nabla \\hat{\\varphi}_2 = \\frac{1}{4} (Y+1, X+1)$$\n",
        "$$\\nabla \\hat{\\varphi}_3 = -\\frac{1}{4} (Y+1, X-1)$$\n",
        "\n",
        "Formula for entries in the element matrix:\n",
        "\n",
        "$$\\int_{\\hat{\\Omega}^{(r)}} \\nabla \\hat{\\varphi}_i \\nabla \\hat{\\varphi}_j \\text{det} J dXdY.$$\n",
        "\n",
        "Formula for entries in the element vector:\n",
        "\n",
        "$$2 \\int_{\\hat{\\Omega}^{(r)}} \\nabla \\hat{\\varphi}_i  \\text{det} J dXdY.$$\n",
        "\n",
        "We have that $J$ is the Jacobian of the mapping $x(X)$:\n",
        "\n",
        "$$J = \\left[\\begin{matrix}\n",
        "  \\frac{\\partial x}{\\partial X} & \\frac{\\partial x}{\\partial Y} \\\\\n",
        "  \\frac{\\partial y}{\\partial X} & \\frac{\\partial y}{\\partial Y} \n",
        "\\end{matrix}\\right]\n",
        "= \\left[\\begin{matrix}\n",
        "  \\frac{1}{2}(x_R - x_L) & 0 \\\\\n",
        "  0 & \\frac{1}{2} (y_T - y_B)\n",
        "\\end{matrix}\\right]$$\n",
        "\n",
        "$$\\text{det} J = \\frac{\\partial x}{\\partial X}\\frac{\\partial y}{\\partial Y} - \\frac{\\partial x}{\\partial Y}\\frac{\\partial y}{\\partial X}$$\n",
        "\n",
        "The last term is zero, so we have\n",
        "\n",
        "$$\\text{det} J = \\frac{\\partial x}{\\partial X}\\frac{\\partial y}{\\partial Y} = \\frac{1}{4} (x_R - x_L)(y_T - y_B) = \\frac{1}{4} hl$$,\n",
        "\n",
        "where $h$ is the the height and $l$ is the length of the elements.\n",
        "\n",
        "The integrals are"
      ]
    },
    {
      "cell_type": "code",
      "metadata": {
        "id": "8hNqUOYgmLy8",
        "colab_type": "code",
        "outputId": "1d3ff9aa-2421-4f7e-b4c4-23beac888922",
        "cellView": "form",
        "colab": {
          "base_uri": "https://localhost:8080/",
          "height": 178
        }
      },
      "source": [
        "#@title\n",
        "import numpy as np\n",
        "import matplotlib.pyplot as plt\n",
        "import sympy as sym\n",
        "from google.colab.output._publish import javascript\n",
        "url = \"https://cdnjs.cloudflare.com/ajax/libs/mathjax/2.7.3/latest.js?config=default\"\n",
        "javascript(url=url)\n",
        "sym.init_printing(use_unicode=True)\n",
        "\n",
        "\n",
        "X, Y, h, l = sym.symbols('X, Y, h, l')\n",
        "\n",
        "fourth = sym.Rational(1, 4)\n",
        "\n",
        "J = fourth*h*l\n",
        "\n",
        "phi0 = fourth*((X-1)*(Y-1))\n",
        "phi1 = -fourth*((X+1)*(Y-1))\n",
        "phi2 = fourth*((X+1)*(Y+1))\n",
        "phi3 = -fourth*((X-1)*(Y+1))\n",
        "\n",
        "grad0 = fourth*sym.Matrix([Y-1, X-1])\n",
        "grad1 = -fourth*sym.Matrix([Y-1, X+1])\n",
        "grad2 = fourth*sym.Matrix([Y+1, X+1])\n",
        "grad3 = -fourth*sym.Matrix([Y+1, X-1])\n",
        "\n",
        "\n",
        "def get_matrix_element(f1, f2):\n",
        "    temp_integral = sym.integrate(f1.dot(f2)*J, (X, -1, 1))\n",
        "    integral = sym.integrate(temp_integral, (Y, -1, 1))\n",
        "\n",
        "    return integral\n",
        "\n",
        "def get_vector_element(f):\n",
        "    temp_integral = sym.integrate(f*J, (X, -1, 1))\n",
        "    integral = sym.integrate(temp_integral, (Y, -1, 1))\n",
        "\n",
        "phis = [phi0, phi1, phi2, phi3]\n",
        "grads = [grad0, grad1, grad2, grad3]\n",
        "A = sym.zeros(4, 4)\n",
        "\n",
        "\n",
        "\n",
        "for i in range(4):\n",
        "    for j in range(4):\n",
        "        A[i, j] = get_matrix_element(grads[i], grads[j])\n",
        "\n",
        "\n",
        "\n",
        "\n",
        "print('A:')\n",
        "A\n",
        "\n"
      ],
      "execution_count": 0,
      "outputs": [
        {
          "output_type": "display_data",
          "data": {
            "text/html": [
              "<script src='https://cdnjs.cloudflare.com/ajax/libs/mathjax/2.7.3/latest.js?config=default'></script>"
            ],
            "text/plain": [
              "<IPython.core.display.HTML object>"
            ]
          },
          "metadata": {
            "tags": []
          }
        },
        {
          "output_type": "stream",
          "text": [
            "A:\n"
          ],
          "name": "stdout"
        },
        {
          "output_type": "execute_result",
          "data": {
            "text/latex": "$$\\left[\\begin{matrix}\\frac{h l}{6} & - \\frac{h l}{24} & - \\frac{h l}{12} & - \\frac{h l}{24}\\\\- \\frac{h l}{24} & \\frac{h l}{6} & - \\frac{h l}{24} & - \\frac{h l}{12}\\\\- \\frac{h l}{12} & - \\frac{h l}{24} & \\frac{h l}{6} & - \\frac{h l}{24}\\\\- \\frac{h l}{24} & - \\frac{h l}{12} & - \\frac{h l}{24} & \\frac{h l}{6}\\end{matrix}\\right]$$",
            "text/plain": [
              "⎡ h⋅l   -h⋅l   -h⋅l   -h⋅l ⎤\n",
              "⎢ ───   ─────  ─────  ─────⎥\n",
              "⎢  6      24     12     24 ⎥\n",
              "⎢                          ⎥\n",
              "⎢-h⋅l    h⋅l   -h⋅l   -h⋅l ⎥\n",
              "⎢─────   ───   ─────  ─────⎥\n",
              "⎢  24     6      24     12 ⎥\n",
              "⎢                          ⎥\n",
              "⎢-h⋅l   -h⋅l    h⋅l   -h⋅l ⎥\n",
              "⎢─────  ─────   ───   ─────⎥\n",
              "⎢  12     24     6      24 ⎥\n",
              "⎢                          ⎥\n",
              "⎢-h⋅l   -h⋅l   -h⋅l    h⋅l ⎥\n",
              "⎢─────  ─────  ─────   ─── ⎥\n",
              "⎣  24     12     24     6  ⎦"
            ]
          },
          "metadata": {
            "tags": []
          },
          "execution_count": 26
        }
      ]
    },
    {
      "cell_type": "code",
      "metadata": {
        "id": "oqe84hTMobND",
        "colab_type": "code",
        "outputId": "ebdd38e8-1bcb-4a65-9c8a-65b85af54561",
        "cellView": "form",
        "colab": {
          "base_uri": "https://localhost:8080/",
          "height": 83
        }
      },
      "source": [
        "#@title\n",
        "from google.colab.output._publish import javascript\n",
        "url = \"https://cdnjs.cloudflare.com/ajax/libs/mathjax/2.7.3/latest.js?config=default\"\n",
        "javascript(url=url)\n",
        "\n",
        "b = sym.zeros(4)\n",
        "\n",
        "def get_vector_element(f):\n",
        "    temp_integral = sym.integrate(f*J, (X, -1, 1))\n",
        "    integral = sym.integrate(temp_integral, (Y, -1, 1))\n",
        "\n",
        "    return integral\n",
        "\n",
        "for i in range(4):\n",
        "    b[i] = get_vector_element(phis[i])\n",
        "  \n",
        "b[0:4]"
      ],
      "execution_count": 0,
      "outputs": [
        {
          "output_type": "display_data",
          "data": {
            "text/html": [
              "<script src='https://cdnjs.cloudflare.com/ajax/libs/mathjax/2.7.3/latest.js?config=default'></script>"
            ],
            "text/plain": [
              "<IPython.core.display.HTML object>"
            ]
          },
          "metadata": {
            "tags": []
          }
        },
        {
          "output_type": "execute_result",
          "data": {
            "image/png": "[encoded data removed]",
            "text/latex": "$$\\left [ \\frac{h l}{4}, \\quad \\frac{h l}{4}, \\quad \\frac{h l}{4}, \\quad \\frac{h l}{4}\\right ]$$",
            "text/plain": [
              "⎡h⋅l  h⋅l  h⋅l  h⋅l⎤\n",
              "⎢───, ───, ───, ───⎥\n",
              "⎣ 4    4    4    4 ⎦"
            ]
          },
          "metadata": {
            "tags": []
          },
          "execution_count": 27
        }
      ]
    }
  ]
}