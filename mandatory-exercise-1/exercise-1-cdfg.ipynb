{
 "cells": [
  {
   "cell_type": "markdown",
   "metadata": {},
   "source": [
    "# IN5270 - Exercise 1\n",
    "\n",
    "Exercises 1a) and 1b) are solved separately with pen and paper."
   ]
  },
  {
   "cell_type": "markdown",
   "metadata": {},
   "source": [
    "## 1c)\n",
    "\n",
    "Using `sympy` to do the calculations in 1a) and 1b)."
   ]
  },
  {
   "cell_type": "code",
   "execution_count": 6,
   "metadata": {},
   "outputs": [
    {
     "name": "stdout",
     "output_type": "stream",
     "text": [
      "=== Testing exact solution: <function linear.<locals>.<lambda> at 0x7f69d095c510> ===\n",
      "Initial conditions u(0)=I, u'(0)=V:\n",
      "ode source term:  w**2*(I + V*t)\n",
      "residual step1: 0\n",
      "residual: 0\n"
     ]
    }
   ],
   "source": [
    "import sympy as sym\n",
    "\n",
    "V, t, I, w, dt = sym.symbols('V t I w dt')  # global symbols\n",
    "f = None  # global variable for the source term in the ODE\n",
    "\n",
    "def ode_source_term(u):\n",
    "    \"\"\"Return the terms in the ODE that the source term\n",
    "    must balance, here u'' + w**2*u.\n",
    "    u is symbolic Python function of t.\"\"\"\n",
    "    return sym.diff(u(t), t, t) + w**2*u(t)\n",
    "\n",
    "def residual_discrete_eq(u):\n",
    "    \"\"\"Return the residual of the discrete eq. with u inserted.\"\"\"\n",
    "    R = (u(t+dt) - 2*u(t) + u(t-dt))/(dt**2) + w**2*u(t) - f\n",
    "    return sym.simplify(R)\n",
    "\n",
    "def residual_discrete_eq_step1(u):\n",
    "    \"\"\"Return the residual of the discrete eq. at the first\n",
    "    step with u inserted.\"\"\"\n",
    "    R = u(dt) - 0.5*dt**2*(f.subs(t, 0) - w**2*I) - V*dt - I\n",
    "    return sym.simplify(R)\n",
    "\n",
    "def DtDt(u, dt):\n",
    "    \"\"\"Return 2nd-order finite difference for u_tt.\n",
    "    u is a symbolic Python function of t.\n",
    "    \"\"\"\n",
    "    return (u(t+dt) - 2*u(t) + u(t+dt))/dt**2\n",
    "\n",
    "def main(u):\n",
    "    \"\"\"\n",
    "    Given some chosen solution u (as a function of t, implemented\n",
    "    as a Python function), use the method of manufactured solutions\n",
    "    to compute the source term f, and check if u also solves\n",
    "    the discrete equations.\n",
    "    \"\"\"\n",
    "    print('=== Testing exact solution: %s ===' % u)\n",
    "    print(\"Initial conditions u(0)=%s, u'(0)=%s:\" % (u(t).subs(t, 0), sym.diff(u(t), t).subs(t, 0)))\n",
    "\n",
    "    # Method of manufactured solution requires fitting f\n",
    "    global f  # source term in the ODE\n",
    "    f = sym.simplify(ode_source_term(u))\n",
    "    print('ode source term: ', f)\n",
    "    \n",
    "    # Residual in discrete equations (should be 0)\n",
    "    print('residual step1:', residual_discrete_eq_step1(u))\n",
    "    print('residual:', residual_discrete_eq(u))\n",
    "\n",
    "def linear():\n",
    "    main(lambda t: V*t + I)\n",
    "\n",
    "linear()"
   ]
  },
  {
   "cell_type": "markdown",
   "metadata": {},
   "source": [
    "## 1d)\n",
    "\n",
    "Choosing a quadratic function as exact solution, and checking if the discrete equations are fulfilled."
   ]
  },
  {
   "cell_type": "code",
   "execution_count": 7,
   "metadata": {},
   "outputs": [
    {
     "name": "stdout",
     "output_type": "stream",
     "text": [
      "=== Testing exact solution: <function quadratic.<locals>.<lambda> at 0x7f69d08f4d90> ===\n",
      "Initial conditions u(0)=I, u'(0)=V:\n",
      "ode source term:  2*K + w**2*(I + K*t**2 + V*t)\n",
      "residual step1: 0\n",
      "residual: 0\n"
     ]
    }
   ],
   "source": [
    "K = sym.symbols('K')\n",
    "\n",
    "def quadratic():\n",
    "    main(lambda t: K*t**2 + V*t + I)\n",
    "\n",
    "quadratic()"
   ]
  },
  {
   "cell_type": "markdown",
   "metadata": {},
   "source": [
    "## 1e)\n",
    "\n",
    "Checking if a cubic function fulfills the discrete equations."
   ]
  },
  {
   "cell_type": "code",
   "execution_count": 8,
   "metadata": {},
   "outputs": [
    {
     "name": "stdout",
     "output_type": "stream",
     "text": [
      "=== Testing exact solution: <function qubic.<locals>.<lambda> at 0x7f69e053bd90> ===\n",
      "Initial conditions u(0)=I, u'(0)=V:\n",
      "ode source term:  2*K + 6*L*t + w**2*(I + K*t**2 + L*t**3 + V*t)\n",
      "residual step1: L*dt**3\n",
      "residual: 0\n"
     ]
    }
   ],
   "source": [
    "L = sym.symbols('L')\n",
    "\n",
    "def qubic():\n",
    "    main(lambda t: L*t**3 + K*t**2 + V*t + I)\n",
    "    \n",
    "qubic()"
   ]
  },
  {
   "cell_type": "markdown",
   "metadata": {},
   "source": [
    "We can se from the result of the function `qubic` that a polynomial of degree three does not fulfill the discrete equation, since the residual of step 1 does not equal 0."
   ]
  },
  {
   "cell_type": "markdown",
   "metadata": {},
   "source": [
    "## 1f)\n",
    "\n",
    "Implementing a `solver`-function to compute the numerical solution of the problem."
   ]
  },
  {
   "cell_type": "code",
   "execution_count": 9,
   "metadata": {},
   "outputs": [
    {
     "data": {
      "image/png": "[encoded data removed]",
      "text/plain": [
       "<Figure size 432x288 with 1 Axes>"
      ]
     },
     "metadata": {
      "needs_background": "light"
     },
     "output_type": "display_data"
    }
   ],
   "source": [
    "import numpy as np\n",
    "import matplotlib.pyplot as plt\n",
    "\n",
    "def solver(I, V, w, f, T, N):\n",
    "    '''Numerically solving second-order ODE.'''\n",
    "    \n",
    "    dt = T/N\n",
    "    t = np.linspace(0, T, N+1)\n",
    "    u = np.zeros(N+1)\n",
    "    \n",
    "    # Computing the first steps\n",
    "    u[0] = I\n",
    "    u[1] = 0.5*dt**2*(f(0) - w**2*I) + V*dt + I\n",
    "    \n",
    "    # Computing the rest of the steps\n",
    "    for n in range(1, N):\n",
    "        u[n+1] = dt**2*(f(t[n]) - w**2*u[n]) + 2*u[n] - u[n-1]\n",
    "        \n",
    "    return u, t\n",
    "\n",
    "# Example parameters and initial conditions\n",
    "I = 1\n",
    "V = 1\n",
    "K = 1\n",
    "w = 1\n",
    "N = 10\n",
    "T = 1\n",
    "# Quadratic source term\n",
    "f_lin = lambda t: w**2*(V*t + I)\n",
    "f_quad = lambda t: 2*K + w**2*(K*t**2 + V*t + I)\n",
    "\n",
    "u_lin, t_lin = solver(I, V, w, f_lin, T, N)\n",
    "u_quad, t_quad = solver(I, V, w, f_quad, T, N)\n",
    "\n",
    "plt.plot(t_lin, u_lin, '-', label='numerical linear')\n",
    "plt.plot(t_quad, u_quad, '-', label='numerical quadratic')\n",
    "plt.legend()\n",
    "plt.show()"
   ]
  },
  {
   "cell_type": "markdown",
   "metadata": {},
   "source": [
    "## 1g)\n",
    "\n",
    "Writing a nose test to check that the quadratic solution is computed correctly by the `solver`-function."
   ]
  },
  {
   "cell_type": "code",
   "execution_count": 10,
   "metadata": {},
   "outputs": [
    {
     "data": {
      "image/png": "[encoded data removed]",
      "text/plain": [
       "<Figure size 432x288 with 1 Axes>"
      ]
     },
     "metadata": {
      "needs_background": "light"
     },
     "output_type": "display_data"
    },
    {
     "name": "stdout",
     "output_type": "stream",
     "text": [
      "Maximum difference of numerical and exact solution:  8.881784197001252e-16\n"
     ]
    }
   ],
   "source": [
    "def exact_quadratic(t, K, V, I):\n",
    "    '''Return exact solution'''\n",
    "    return K*t**2 + V*t + I\n",
    "\n",
    "def test_quadratic():\n",
    "    '''Comparing numerical and exact solution.'''\n",
    "    \n",
    "    u, t = solver(I, V, w, f_quad, T, N)\n",
    "    tol = 1E-15\n",
    "    diff = np.abs(exact_quadratic(t, K, V, I) - u).max()\n",
    "    print('Maximum difference of numerical and exact solution: ', diff)\n",
    "    assert diff < tol\n",
    "\n",
    "    \n",
    "plt.figure()\n",
    "plt.plot(t_quad, u_quad, '.', label='numerical solution')\n",
    "plt.plot(t_quad, exact_quadratic(t_quad, K, V, I), label='exact solution')\n",
    "plt.legend()\n",
    "plt.show()\n",
    "\n",
    "test_quadratic()"
   ]
  }
 ],
 "metadata": {
  "kernelspec": {
   "display_name": "Python 3",
   "language": "python",
   "name": "python3"
  },
  "language_info": {
   "codemirror_mode": {
    "name": "ipython",
    "version": 3
   },
   "file_extension": ".py",
   "mimetype": "text/x-python",
   "name": "python",
   "nbconvert_exporter": "python",
   "pygments_lexer": "ipython3",
   "version": "3.7.3"
  }
 },
 "nbformat": 4,
 "nbformat_minor": 2
}
